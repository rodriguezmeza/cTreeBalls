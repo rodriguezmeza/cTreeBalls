{
 "cells": [
  {
   "cell_type": "markdown",
   "id": "81f8f3ac",
   "metadata": {},
   "source": [
    "## cTreeBalls code\n",
    "### (alias cballs)"
   ]
  },
  {
   "cell_type": "code",
   "execution_count": 1,
   "id": "381ac809",
   "metadata": {},
   "outputs": [],
   "source": [
    "#import standard libraries\n",
    "import matplotlib\n",
    "import matplotlib.pyplot as plt\n",
    "# cTreeBalls code\n",
    "from cballs_module import *"
   ]
  },
  {
   "cell_type": "markdown",
   "id": "1e297fc8",
   "metadata": {},
   "source": [
    "### Inputs\n",
    "\n",
    "Set the needed **cTreeBalls parameters**."
   ]
  },
  {
   "cell_type": "code",
   "execution_count": 2,
   "id": "0494d6e1",
   "metadata": {},
   "outputs": [],
   "source": [
    "searchMethod_in = \"tree-omp-sincos\"\n",
    "#scanLevelRoot_in = 0\n",
    "options_in  = \"\"\n",
    "infile_in = \"../full_sky_whole_XYZK__zs9_r000_nside512.bin\"\n",
    "infileformat_in = \"binary\"\n",
    "rangeN_in = 0.0633205\n",
    "rminHist_in = 0.00213811\n",
    "sizeHistN_in = 20\n",
    "stepState_in = 1000\n",
    "verbose_in = 1\n",
    "verbose_log_in = 2\n",
    "numberThreads_in = 16"
   ]
  },
  {
   "cell_type": "markdown",
   "id": "cc6d6fea",
   "metadata": {},
   "source": [
    "### Running the cballs code\n",
    "To run cballs code, use the function '**run_cballs**' as shown below."
   ]
  },
  {
   "cell_type": "code",
   "execution_count": null,
   "id": "221f80bc",
   "metadata": {
    "scrolled": false
   },
   "outputs": [],
   "source": [
    "cballs_CLASS = run_cballs(\n",
    "                        searchMethod = searchMethod_in,\n",
    "                        scanLevelRoot = scanLevelRoot_in,\n",
    "                        options  = options_in,\n",
    "                        infile = infile_in,\n",
    "                        infileformat = infileformat_in,\n",
    "                        rangeN = rangeN_in,\n",
    "                        rminHist = rminHist_in,\n",
    "                        sizeHistN = sizeHistN_in,\n",
    "                        stepState = stepState_in,\n",
    "                        verbose = verbose_in,\n",
    "                        verbose_log = verbose_log_in,\n",
    "                        numberThreads = numberThreads_in)\n"
   ]
  },
  {
   "cell_type": "code",
   "execution_count": null,
   "id": "09f3e1e8",
   "metadata": {},
   "outputs": [],
   "source": [
    "print(cballs_CLASS)"
   ]
  },
  {
   "cell_type": "code",
   "execution_count": null,
   "id": "70de0316",
   "metadata": {},
   "outputs": [],
   "source": []
  }
 ],
 "metadata": {
  "kernelspec": {
   "display_name": "Python 3 (ipykernel)",
   "language": "python",
   "name": "python3"
  },
  "language_info": {
   "codemirror_mode": {
    "name": "ipython",
    "version": 3
   },
   "file_extension": ".py",
   "mimetype": "text/x-python",
   "name": "python",
   "nbconvert_exporter": "python",
   "pygments_lexer": "ipython3",
   "version": "3.7.13"
  }
 },
 "nbformat": 4,
 "nbformat_minor": 5
}
